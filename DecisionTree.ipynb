{
 "cells": [
  {
   "cell_type": "code",
   "execution_count": 1,
   "id": "bc0d97df",
   "metadata": {},
   "outputs": [],
   "source": [
    "#Decision Tree to predict Speed\n",
    "#Random forest Speed prediction\n",
    "\n",
    "# import required libraries\n",
    "import pandas as pd"
   ]
  },
  {
   "cell_type": "code",
   "execution_count": 2,
   "id": "1c23d8fd",
   "metadata": {},
   "outputs": [
    {
     "data": {
      "text/html": [
       "<div>\n",
       "<style scoped>\n",
       "    .dataframe tbody tr th:only-of-type {\n",
       "        vertical-align: middle;\n",
       "    }\n",
       "\n",
       "    .dataframe tbody tr th {\n",
       "        vertical-align: top;\n",
       "    }\n",
       "\n",
       "    .dataframe thead th {\n",
       "        text-align: right;\n",
       "    }\n",
       "</style>\n",
       "<table border=\"1\" class=\"dataframe\">\n",
       "  <thead>\n",
       "    <tr style=\"text-align: right;\">\n",
       "      <th></th>\n",
       "      <th>Time</th>\n",
       "      <th>Forefoot</th>\n",
       "      <th>Midfoot</th>\n",
       "      <th>Heel</th>\n",
       "      <th>Total</th>\n",
       "      <th>Incline</th>\n",
       "      <th>Speed</th>\n",
       "      <th>Speed2</th>\n",
       "    </tr>\n",
       "  </thead>\n",
       "  <tbody>\n",
       "    <tr>\n",
       "      <th>0</th>\n",
       "      <td>0.00</td>\n",
       "      <td>0.00</td>\n",
       "      <td>0.00</td>\n",
       "      <td>0.00</td>\n",
       "      <td>0.00</td>\n",
       "      <td>NaN</td>\n",
       "      <td>NaN</td>\n",
       "      <td>NaN</td>\n",
       "    </tr>\n",
       "    <tr>\n",
       "      <th>1</th>\n",
       "      <td>0.01</td>\n",
       "      <td>62.01</td>\n",
       "      <td>129.85</td>\n",
       "      <td>104.94</td>\n",
       "      <td>296.80</td>\n",
       "      <td>NaN</td>\n",
       "      <td>NaN</td>\n",
       "      <td>NaN</td>\n",
       "    </tr>\n",
       "    <tr>\n",
       "      <th>2</th>\n",
       "      <td>0.02</td>\n",
       "      <td>62.01</td>\n",
       "      <td>127.20</td>\n",
       "      <td>102.29</td>\n",
       "      <td>291.50</td>\n",
       "      <td>NaN</td>\n",
       "      <td>NaN</td>\n",
       "      <td>NaN</td>\n",
       "    </tr>\n",
       "    <tr>\n",
       "      <th>3</th>\n",
       "      <td>0.03</td>\n",
       "      <td>62.01</td>\n",
       "      <td>124.55</td>\n",
       "      <td>104.94</td>\n",
       "      <td>291.50</td>\n",
       "      <td>NaN</td>\n",
       "      <td>NaN</td>\n",
       "      <td>NaN</td>\n",
       "    </tr>\n",
       "    <tr>\n",
       "      <th>4</th>\n",
       "      <td>0.04</td>\n",
       "      <td>57.24</td>\n",
       "      <td>124.55</td>\n",
       "      <td>104.94</td>\n",
       "      <td>286.73</td>\n",
       "      <td>NaN</td>\n",
       "      <td>NaN</td>\n",
       "      <td>NaN</td>\n",
       "    </tr>\n",
       "  </tbody>\n",
       "</table>\n",
       "</div>"
      ],
      "text/plain": [
       "   Time  Forefoot  Midfoot    Heel   Total  Incline  Speed Speed2\n",
       "0  0.00      0.00     0.00    0.00    0.00      NaN    NaN    NaN\n",
       "1  0.01     62.01   129.85  104.94  296.80      NaN    NaN    NaN\n",
       "2  0.02     62.01   127.20  102.29  291.50      NaN    NaN    NaN\n",
       "3  0.03     62.01   124.55  104.94  291.50      NaN    NaN    NaN\n",
       "4  0.04     57.24   124.55  104.94  286.73      NaN    NaN    NaN"
      ]
     },
     "execution_count": 2,
     "metadata": {},
     "output_type": "execute_result"
    }
   ],
   "source": [
    "#import and read dataset. Investigate 5 top rows\n",
    "df = pd.read_csv('data_proc.csv')\n",
    "df.head()\n"
   ]
  },
  {
   "cell_type": "code",
   "execution_count": 3,
   "id": "1bd6fe45",
   "metadata": {},
   "outputs": [
    {
     "data": {
      "text/html": [
       "<div>\n",
       "<style scoped>\n",
       "    .dataframe tbody tr th:only-of-type {\n",
       "        vertical-align: middle;\n",
       "    }\n",
       "\n",
       "    .dataframe tbody tr th {\n",
       "        vertical-align: top;\n",
       "    }\n",
       "\n",
       "    .dataframe thead th {\n",
       "        text-align: right;\n",
       "    }\n",
       "</style>\n",
       "<table border=\"1\" class=\"dataframe\">\n",
       "  <thead>\n",
       "    <tr style=\"text-align: right;\">\n",
       "      <th></th>\n",
       "      <th>Time</th>\n",
       "      <th>Forefoot</th>\n",
       "      <th>Midfoot</th>\n",
       "      <th>Heel</th>\n",
       "      <th>Total</th>\n",
       "      <th>Incline</th>\n",
       "      <th>Speed</th>\n",
       "      <th>Speed2</th>\n",
       "    </tr>\n",
       "  </thead>\n",
       "  <tbody>\n",
       "    <tr>\n",
       "      <th>37376</th>\n",
       "      <td>373.76</td>\n",
       "      <td>0.0</td>\n",
       "      <td>0.00</td>\n",
       "      <td>2.49</td>\n",
       "      <td>2.49</td>\n",
       "      <td>10.0</td>\n",
       "      <td>0.8</td>\n",
       "      <td>slow</td>\n",
       "    </tr>\n",
       "    <tr>\n",
       "      <th>37377</th>\n",
       "      <td>373.77</td>\n",
       "      <td>0.0</td>\n",
       "      <td>0.00</td>\n",
       "      <td>4.98</td>\n",
       "      <td>4.98</td>\n",
       "      <td>10.0</td>\n",
       "      <td>0.8</td>\n",
       "      <td>slow</td>\n",
       "    </tr>\n",
       "    <tr>\n",
       "      <th>37378</th>\n",
       "      <td>373.78</td>\n",
       "      <td>0.0</td>\n",
       "      <td>0.00</td>\n",
       "      <td>4.98</td>\n",
       "      <td>4.98</td>\n",
       "      <td>10.0</td>\n",
       "      <td>0.8</td>\n",
       "      <td>slow</td>\n",
       "    </tr>\n",
       "    <tr>\n",
       "      <th>37379</th>\n",
       "      <td>373.79</td>\n",
       "      <td>0.0</td>\n",
       "      <td>0.00</td>\n",
       "      <td>4.98</td>\n",
       "      <td>4.98</td>\n",
       "      <td>10.0</td>\n",
       "      <td>0.8</td>\n",
       "      <td>slow</td>\n",
       "    </tr>\n",
       "    <tr>\n",
       "      <th>37380</th>\n",
       "      <td>373.80</td>\n",
       "      <td>0.0</td>\n",
       "      <td>0.00</td>\n",
       "      <td>4.98</td>\n",
       "      <td>4.98</td>\n",
       "      <td>10.0</td>\n",
       "      <td>0.8</td>\n",
       "      <td>slow</td>\n",
       "    </tr>\n",
       "    <tr>\n",
       "      <th>...</th>\n",
       "      <td>...</td>\n",
       "      <td>...</td>\n",
       "      <td>...</td>\n",
       "      <td>...</td>\n",
       "      <td>...</td>\n",
       "      <td>...</td>\n",
       "      <td>...</td>\n",
       "      <td>...</td>\n",
       "    </tr>\n",
       "    <tr>\n",
       "      <th>131540</th>\n",
       "      <td>1315.40</td>\n",
       "      <td>0.0</td>\n",
       "      <td>5.00</td>\n",
       "      <td>10.00</td>\n",
       "      <td>15.00</td>\n",
       "      <td>25.0</td>\n",
       "      <td>1.6</td>\n",
       "      <td>fast</td>\n",
       "    </tr>\n",
       "    <tr>\n",
       "      <th>131541</th>\n",
       "      <td>1315.41</td>\n",
       "      <td>0.0</td>\n",
       "      <td>5.00</td>\n",
       "      <td>10.00</td>\n",
       "      <td>15.00</td>\n",
       "      <td>25.0</td>\n",
       "      <td>1.6</td>\n",
       "      <td>fast</td>\n",
       "    </tr>\n",
       "    <tr>\n",
       "      <th>131542</th>\n",
       "      <td>1315.42</td>\n",
       "      <td>0.0</td>\n",
       "      <td>5.00</td>\n",
       "      <td>10.00</td>\n",
       "      <td>15.00</td>\n",
       "      <td>25.0</td>\n",
       "      <td>1.6</td>\n",
       "      <td>fast</td>\n",
       "    </tr>\n",
       "    <tr>\n",
       "      <th>131543</th>\n",
       "      <td>1315.43</td>\n",
       "      <td>0.0</td>\n",
       "      <td>5.00</td>\n",
       "      <td>10.00</td>\n",
       "      <td>15.00</td>\n",
       "      <td>25.0</td>\n",
       "      <td>1.6</td>\n",
       "      <td>fast</td>\n",
       "    </tr>\n",
       "    <tr>\n",
       "      <th>131544</th>\n",
       "      <td>1315.44</td>\n",
       "      <td>0.0</td>\n",
       "      <td>7.48</td>\n",
       "      <td>10.00</td>\n",
       "      <td>17.48</td>\n",
       "      <td>25.0</td>\n",
       "      <td>1.6</td>\n",
       "      <td>fast</td>\n",
       "    </tr>\n",
       "  </tbody>\n",
       "</table>\n",
       "<p>75982 rows × 8 columns</p>\n",
       "</div>"
      ],
      "text/plain": [
       "           Time  Forefoot  Midfoot   Heel  Total  Incline  Speed Speed2\n",
       "37376    373.76       0.0     0.00   2.49   2.49     10.0    0.8   slow\n",
       "37377    373.77       0.0     0.00   4.98   4.98     10.0    0.8   slow\n",
       "37378    373.78       0.0     0.00   4.98   4.98     10.0    0.8   slow\n",
       "37379    373.79       0.0     0.00   4.98   4.98     10.0    0.8   slow\n",
       "37380    373.80       0.0     0.00   4.98   4.98     10.0    0.8   slow\n",
       "...         ...       ...      ...    ...    ...      ...    ...    ...\n",
       "131540  1315.40       0.0     5.00  10.00  15.00     25.0    1.6   fast\n",
       "131541  1315.41       0.0     5.00  10.00  15.00     25.0    1.6   fast\n",
       "131542  1315.42       0.0     5.00  10.00  15.00     25.0    1.6   fast\n",
       "131543  1315.43       0.0     5.00  10.00  15.00     25.0    1.6   fast\n",
       "131544  1315.44       0.0     7.48  10.00  17.48     25.0    1.6   fast\n",
       "\n",
       "[75982 rows x 8 columns]"
      ]
     },
     "execution_count": 3,
     "metadata": {},
     "output_type": "execute_result"
    }
   ],
   "source": [
    "#remove rows with missing data\n",
    "df = df.dropna()\n",
    "df"
   ]
  },
  {
   "cell_type": "code",
   "execution_count": 4,
   "id": "d6311225",
   "metadata": {},
   "outputs": [],
   "source": [
    "df['Speed2']=df['Speed2'].replace('slow',0).replace('medium',1).replace('fast',2)"
   ]
  },
  {
   "cell_type": "code",
   "execution_count": 5,
   "id": "b457c662",
   "metadata": {},
   "outputs": [],
   "source": [
    "#separate the features (X) and the label\n",
    "X = df.drop([\"Time\",\"Speed\",\"Speed2\"], axis=1)\n",
    "y = df[\"Speed2\"]"
   ]
  },
  {
   "cell_type": "code",
   "execution_count": 6,
   "id": "355a30b3",
   "metadata": {},
   "outputs": [],
   "source": [
    "from sklearn.tree import DecisionTreeClassifier \n",
    "#training our random forest model \n",
    "from sklearn.model_selection import train_test_split\n",
    "X_train, X_test, y_train, y_test = train_test_split(X, y, test_size=0.2, random_state=40)\n",
    "\n",
    "# Create Decision Tree classifer object\n",
    "clf = DecisionTreeClassifier()\n",
    "\n",
    "# Train Decision Tree Classifer\n",
    "clf = clf.fit(X_train,y_train)\n",
    "\n",
    "#Predict the response for test dataset\n",
    "y_pred = clf.predict(X_test)"
   ]
  },
  {
   "cell_type": "code",
   "execution_count": 7,
   "id": "bcefb12c",
   "metadata": {},
   "outputs": [
    {
     "data": {
      "text/plain": [
       "array([0, 0, 0, ..., 0, 1, 0])"
      ]
     },
     "execution_count": 7,
     "metadata": {},
     "output_type": "execute_result"
    }
   ],
   "source": [
    "#make predictions with our model\n",
    "predictions = clf.predict(X_test)\n",
    "predictions"
   ]
  },
  {
   "cell_type": "code",
   "execution_count": 8,
   "id": "c37ec5c1",
   "metadata": {},
   "outputs": [
    {
     "data": {
      "text/plain": [
       "array([0, 1, 2])"
      ]
     },
     "execution_count": 8,
     "metadata": {},
     "output_type": "execute_result"
    }
   ],
   "source": [
    "predictions = clf.predict(X_test)\n",
    "\n",
    "clf.predict_proba(X_test)\n",
    "\n",
    "#show the order of the classes \n",
    "clf.classes_"
   ]
  },
  {
   "cell_type": "code",
   "execution_count": 9,
   "id": "8a23702c",
   "metadata": {},
   "outputs": [
    {
     "name": "stdout",
     "output_type": "stream",
     "text": [
      "The importance of feature' Forefoot 'is 18.11%.\n",
      "The importance of feature' Midfoot 'is 26.6%.\n",
      "The importance of feature' Heel 'is 22.09%.\n",
      "The importance of feature' Total 'is 24.36%.\n",
      "The importance of feature' Incline 'is 8.84%.\n"
     ]
    }
   ],
   "source": [
    "#show how important each feature during prediction\n",
    "importances=clf.feature_importances_\n",
    "columns=X.columns\n",
    "i=0\n",
    "\n",
    "while i<len(columns):\n",
    "    print(f\"The importance of feature' {columns[i]} 'is {round(importances[i]*100,2)}%.\")\n",
    "    i+=1"
   ]
  },
  {
   "cell_type": "code",
   "execution_count": 10,
   "id": "8ccc7232",
   "metadata": {},
   "outputs": [
    {
     "name": "stdout",
     "output_type": "stream",
     "text": [
      "              precision    recall  f1-score   support\n",
      "\n",
      "           0       0.73      0.78      0.75      6999\n",
      "           1       0.60      0.57      0.58      4493\n",
      "           2       0.71      0.66      0.68      3705\n",
      "\n",
      "    accuracy                           0.69     15197\n",
      "   macro avg       0.68      0.67      0.67     15197\n",
      "weighted avg       0.69      0.69      0.69     15197\n",
      "\n"
     ]
    },
    {
     "data": {
      "image/png": "[encoded data removed]",
      "text/plain": [
       "<Figure size 640x480 with 2 Axes>"
      ]
     },
     "metadata": {},
     "output_type": "display_data"
    }
   ],
   "source": [
    "#evaluate the performance of our model\n",
    "import seaborn as sns\n",
    "from sklearn.metrics import classification_report,confusion_matrix\n",
    "\n",
    "cm=confusion_matrix(y_test,predictions)\n",
    "sns.heatmap(cm, annot=True,fmt='d').set_title(\"Speed Prediction Confusion Matrix\")\n",
    "\n",
    "print(classification_report(y_test,predictions))"
   ]
  },
  {
   "cell_type": "code",
   "execution_count": 28,
   "id": "622611c1",
   "metadata": {},
   "outputs": [],
   "source": [
    "#Decision Tree to predict Incline\n",
    "#Random forest Speed prediction\n",
    "\n",
    "# import required libraries\n",
    "import pandas as pd"
   ]
  },
  {
   "cell_type": "code",
   "execution_count": 29,
   "metadata": {},
   "outputs": [
    {
     "data": {
      "text/html": [
       "<div>\n",
       "<style scoped>\n",
       "    .dataframe tbody tr th:only-of-type {\n",
       "        vertical-align: middle;\n",
       "    }\n",
       "\n",
       "    .dataframe tbody tr th {\n",
       "        vertical-align: top;\n",
       "    }\n",
       "\n",
       "    .dataframe thead th {\n",
       "        text-align: right;\n",
       "    }\n",
       "</style>\n",
       "<table border=\"1\" class=\"dataframe\">\n",
       "  <thead>\n",
       "    <tr style=\"text-align: right;\">\n",
       "      <th></th>\n",
       "      <th>Time</th>\n",
       "      <th>Forefoot</th>\n",
       "      <th>Midfoot</th>\n",
       "      <th>Heel</th>\n",
       "      <th>Total</th>\n",
       "      <th>Incline</th>\n",
       "      <th>Speed</th>\n",
       "      <th>Speed2</th>\n",
       "    </tr>\n",
       "  </thead>\n",
       "  <tbody>\n",
       "    <tr>\n",
       "      <th>0</th>\n",
       "      <td>0.00</td>\n",
       "      <td>0.00</td>\n",
       "      <td>0.00</td>\n",
       "      <td>0.00</td>\n",
       "      <td>0.00</td>\n",
       "      <td>NaN</td>\n",
       "      <td>NaN</td>\n",
       "      <td>NaN</td>\n",
       "    </tr>\n",
       "    <tr>\n",
       "      <th>1</th>\n",
       "      <td>0.01</td>\n",
       "      <td>62.01</td>\n",
       "      <td>129.85</td>\n",
       "      <td>104.94</td>\n",
       "      <td>296.80</td>\n",
       "      <td>NaN</td>\n",
       "      <td>NaN</td>\n",
       "      <td>NaN</td>\n",
       "    </tr>\n",
       "    <tr>\n",
       "      <th>2</th>\n",
       "      <td>0.02</td>\n",
       "      <td>62.01</td>\n",
       "      <td>127.20</td>\n",
       "      <td>102.29</td>\n",
       "      <td>291.50</td>\n",
       "      <td>NaN</td>\n",
       "      <td>NaN</td>\n",
       "      <td>NaN</td>\n",
       "    </tr>\n",
       "    <tr>\n",
       "      <th>3</th>\n",
       "      <td>0.03</td>\n",
       "      <td>62.01</td>\n",
       "      <td>124.55</td>\n",
       "      <td>104.94</td>\n",
       "      <td>291.50</td>\n",
       "      <td>NaN</td>\n",
       "      <td>NaN</td>\n",
       "      <td>NaN</td>\n",
       "    </tr>\n",
       "    <tr>\n",
       "      <th>4</th>\n",
       "      <td>0.04</td>\n",
       "      <td>57.24</td>\n",
       "      <td>124.55</td>\n",
       "      <td>104.94</td>\n",
       "      <td>286.73</td>\n",
       "      <td>NaN</td>\n",
       "      <td>NaN</td>\n",
       "      <td>NaN</td>\n",
       "    </tr>\n",
       "  </tbody>\n",
       "</table>\n",
       "</div>"
      ],
      "text/plain": [
       "   Time  Forefoot  Midfoot    Heel   Total  Incline  Speed Speed2\n",
       "0  0.00      0.00     0.00    0.00    0.00      NaN    NaN    NaN\n",
       "1  0.01     62.01   129.85  104.94  296.80      NaN    NaN    NaN\n",
       "2  0.02     62.01   127.20  102.29  291.50      NaN    NaN    NaN\n",
       "3  0.03     62.01   124.55  104.94  291.50      NaN    NaN    NaN\n",
       "4  0.04     57.24   124.55  104.94  286.73      NaN    NaN    NaN"
      ]
     },
     "execution_count": 29,
     "metadata": {},
     "output_type": "execute_result"
    }
   ],
   "source": [
    "#import and read dataset. Investigate 5 top rows\n",
    "df = pd.read_csv('data_proc.csv')\n",
    "df.head()"
   ]
  },
  {
   "cell_type": "code",
   "execution_count": 30,
   "metadata": {},
   "outputs": [
    {
     "data": {
      "text/html": [
       "<div>\n",
       "<style scoped>\n",
       "    .dataframe tbody tr th:only-of-type {\n",
       "        vertical-align: middle;\n",
       "    }\n",
       "\n",
       "    .dataframe tbody tr th {\n",
       "        vertical-align: top;\n",
       "    }\n",
       "\n",
       "    .dataframe thead th {\n",
       "        text-align: right;\n",
       "    }\n",
       "</style>\n",
       "<table border=\"1\" class=\"dataframe\">\n",
       "  <thead>\n",
       "    <tr style=\"text-align: right;\">\n",
       "      <th></th>\n",
       "      <th>Time</th>\n",
       "      <th>Forefoot</th>\n",
       "      <th>Midfoot</th>\n",
       "      <th>Heel</th>\n",
       "      <th>Total</th>\n",
       "      <th>Incline</th>\n",
       "      <th>Speed</th>\n",
       "      <th>Speed2</th>\n",
       "    </tr>\n",
       "  </thead>\n",
       "  <tbody>\n",
       "    <tr>\n",
       "      <th>37376</th>\n",
       "      <td>373.76</td>\n",
       "      <td>0.0</td>\n",
       "      <td>0.00</td>\n",
       "      <td>2.49</td>\n",
       "      <td>2.49</td>\n",
       "      <td>10.0</td>\n",
       "      <td>0.8</td>\n",
       "      <td>slow</td>\n",
       "    </tr>\n",
       "    <tr>\n",
       "      <th>37377</th>\n",
       "      <td>373.77</td>\n",
       "      <td>0.0</td>\n",
       "      <td>0.00</td>\n",
       "      <td>4.98</td>\n",
       "      <td>4.98</td>\n",
       "      <td>10.0</td>\n",
       "      <td>0.8</td>\n",
       "      <td>slow</td>\n",
       "    </tr>\n",
       "    <tr>\n",
       "      <th>37378</th>\n",
       "      <td>373.78</td>\n",
       "      <td>0.0</td>\n",
       "      <td>0.00</td>\n",
       "      <td>4.98</td>\n",
       "      <td>4.98</td>\n",
       "      <td>10.0</td>\n",
       "      <td>0.8</td>\n",
       "      <td>slow</td>\n",
       "    </tr>\n",
       "    <tr>\n",
       "      <th>37379</th>\n",
       "      <td>373.79</td>\n",
       "      <td>0.0</td>\n",
       "      <td>0.00</td>\n",
       "      <td>4.98</td>\n",
       "      <td>4.98</td>\n",
       "      <td>10.0</td>\n",
       "      <td>0.8</td>\n",
       "      <td>slow</td>\n",
       "    </tr>\n",
       "    <tr>\n",
       "      <th>37380</th>\n",
       "      <td>373.80</td>\n",
       "      <td>0.0</td>\n",
       "      <td>0.00</td>\n",
       "      <td>4.98</td>\n",
       "      <td>4.98</td>\n",
       "      <td>10.0</td>\n",
       "      <td>0.8</td>\n",
       "      <td>slow</td>\n",
       "    </tr>\n",
       "    <tr>\n",
       "      <th>...</th>\n",
       "      <td>...</td>\n",
       "      <td>...</td>\n",
       "      <td>...</td>\n",
       "      <td>...</td>\n",
       "      <td>...</td>\n",
       "      <td>...</td>\n",
       "      <td>...</td>\n",
       "      <td>...</td>\n",
       "    </tr>\n",
       "    <tr>\n",
       "      <th>131540</th>\n",
       "      <td>1315.40</td>\n",
       "      <td>0.0</td>\n",
       "      <td>5.00</td>\n",
       "      <td>10.00</td>\n",
       "      <td>15.00</td>\n",
       "      <td>25.0</td>\n",
       "      <td>1.6</td>\n",
       "      <td>fast</td>\n",
       "    </tr>\n",
       "    <tr>\n",
       "      <th>131541</th>\n",
       "      <td>1315.41</td>\n",
       "      <td>0.0</td>\n",
       "      <td>5.00</td>\n",
       "      <td>10.00</td>\n",
       "      <td>15.00</td>\n",
       "      <td>25.0</td>\n",
       "      <td>1.6</td>\n",
       "      <td>fast</td>\n",
       "    </tr>\n",
       "    <tr>\n",
       "      <th>131542</th>\n",
       "      <td>1315.42</td>\n",
       "      <td>0.0</td>\n",
       "      <td>5.00</td>\n",
       "      <td>10.00</td>\n",
       "      <td>15.00</td>\n",
       "      <td>25.0</td>\n",
       "      <td>1.6</td>\n",
       "      <td>fast</td>\n",
       "    </tr>\n",
       "    <tr>\n",
       "      <th>131543</th>\n",
       "      <td>1315.43</td>\n",
       "      <td>0.0</td>\n",
       "      <td>5.00</td>\n",
       "      <td>10.00</td>\n",
       "      <td>15.00</td>\n",
       "      <td>25.0</td>\n",
       "      <td>1.6</td>\n",
       "      <td>fast</td>\n",
       "    </tr>\n",
       "    <tr>\n",
       "      <th>131544</th>\n",
       "      <td>1315.44</td>\n",
       "      <td>0.0</td>\n",
       "      <td>7.48</td>\n",
       "      <td>10.00</td>\n",
       "      <td>17.48</td>\n",
       "      <td>25.0</td>\n",
       "      <td>1.6</td>\n",
       "      <td>fast</td>\n",
       "    </tr>\n",
       "  </tbody>\n",
       "</table>\n",
       "<p>75982 rows × 8 columns</p>\n",
       "</div>"
      ],
      "text/plain": [
       "           Time  Forefoot  Midfoot   Heel  Total  Incline  Speed Speed2\n",
       "37376    373.76       0.0     0.00   2.49   2.49     10.0    0.8   slow\n",
       "37377    373.77       0.0     0.00   4.98   4.98     10.0    0.8   slow\n",
       "37378    373.78       0.0     0.00   4.98   4.98     10.0    0.8   slow\n",
       "37379    373.79       0.0     0.00   4.98   4.98     10.0    0.8   slow\n",
       "37380    373.80       0.0     0.00   4.98   4.98     10.0    0.8   slow\n",
       "...         ...       ...      ...    ...    ...      ...    ...    ...\n",
       "131540  1315.40       0.0     5.00  10.00  15.00     25.0    1.6   fast\n",
       "131541  1315.41       0.0     5.00  10.00  15.00     25.0    1.6   fast\n",
       "131542  1315.42       0.0     5.00  10.00  15.00     25.0    1.6   fast\n",
       "131543  1315.43       0.0     5.00  10.00  15.00     25.0    1.6   fast\n",
       "131544  1315.44       0.0     7.48  10.00  17.48     25.0    1.6   fast\n",
       "\n",
       "[75982 rows x 8 columns]"
      ]
     },
     "execution_count": 30,
     "metadata": {},
     "output_type": "execute_result"
    }
   ],
   "source": [
    "#remove rows with missing data\n",
    "df = df.dropna()\n",
    "df"
   ]
  },
  {
   "cell_type": "code",
   "execution_count": 31,
   "metadata": {},
   "outputs": [],
   "source": [
    "df['Speed2']=df['Speed2'].replace('slow',0).replace('medium',1).replace('fast',2)"
   ]
  },
  {
   "cell_type": "code",
   "execution_count": 33,
   "metadata": {},
   "outputs": [],
   "source": [
    "#separate the features (X) and the label\n",
    "X = df.drop([\"Time\",\"Incline\",\"Speed2\"], axis=1)\n",
    "y = df[\"Incline\"]"
   ]
  },
  {
   "cell_type": "code",
   "execution_count": 34,
   "id": "2a50262a",
   "metadata": {},
   "outputs": [],
   "source": [
    "from sklearn.tree import DecisionTreeClassifier \n",
    "#training our random forest model \n",
    "from sklearn.model_selection import train_test_split\n",
    "X_train, X_test, y_train, y_test = train_test_split(X, y, test_size=0.2, random_state=40)\n",
    "\n",
    "# Create Decision Tree classifer object\n",
    "clf = DecisionTreeClassifier()\n",
    "\n",
    "# Train Decision Tree Classifer\n",
    "clf = clf.fit(X_train,y_train)\n",
    "\n",
    "#Predict the response for test dataset\n",
    "y_pred = clf.predict(X_test)"
   ]
  },
  {
   "cell_type": "code",
   "execution_count": 35,
   "id": "ff7dbd06",
   "metadata": {},
   "outputs": [
    {
     "data": {
      "text/plain": [
       "array([20., 15., 10., ..., 25., 20., 25.])"
      ]
     },
     "execution_count": 35,
     "metadata": {},
     "output_type": "execute_result"
    }
   ],
   "source": [
    "#make predictions with our model\n",
    "predictions = clf.predict(X_test)\n",
    "predictions"
   ]
  },
  {
   "cell_type": "code",
   "execution_count": 36,
   "id": "3c54dad9",
   "metadata": {},
   "outputs": [
    {
     "data": {
      "text/plain": [
       "array([ 0.,  5., 10., 15., 20., 25.])"
      ]
     },
     "execution_count": 36,
     "metadata": {},
     "output_type": "execute_result"
    }
   ],
   "source": [
    "predictions = clf.predict(X_test)\n",
    "\n",
    "clf.predict_proba(X_test)\n",
    "\n",
    "#show the order of the classes \n",
    "clf.classes_"
   ]
  },
  {
   "cell_type": "code",
   "execution_count": 37,
   "id": "2c20dfb1",
   "metadata": {},
   "outputs": [
    {
     "name": "stdout",
     "output_type": "stream",
     "text": [
      "The importance of feature' Forefoot 'is 20.4%.\n",
      "The importance of feature' Midfoot 'is 26.21%.\n",
      "The importance of feature' Heel 'is 21.13%.\n",
      "The importance of feature' Total 'is 28.18%.\n",
      "The importance of feature' Speed 'is 4.09%.\n"
     ]
    }
   ],
   "source": [
    "#show how important each feature during prediction\n",
    "importances=clf.feature_importances_\n",
    "columns=X.columns\n",
    "i=0\n",
    "\n",
    "while i<len(columns):\n",
    "    print(f\"The importance of feature' {columns[i]} 'is {round(importances[i]*100,2)}%.\")\n",
    "    i+=1"
   ]
  },
  {
   "cell_type": "code",
   "execution_count": 38,
   "id": "9651605c",
   "metadata": {},
   "outputs": [
    {
     "name": "stdout",
     "output_type": "stream",
     "text": [
      "              precision    recall  f1-score   support\n",
      "\n",
      "         0.0       0.51      0.55      0.53      3391\n",
      "         5.0       0.33      0.36      0.34      2571\n",
      "        10.0       0.30      0.31      0.31      2333\n",
      "        15.0       0.31      0.29      0.30      2129\n",
      "        20.0       0.35      0.33      0.34      2333\n",
      "        25.0       0.55      0.49      0.52      2440\n",
      "\n",
      "    accuracy                           0.40     15197\n",
      "   macro avg       0.39      0.39      0.39     15197\n",
      "weighted avg       0.40      0.40      0.40     15197\n",
      "\n"
     ]
    },
    {
     "data": {
      "image/png": "[encoded data removed]",
      "text/plain": [
       "<Figure size 640x480 with 2 Axes>"
      ]
     },
     "metadata": {},
     "output_type": "display_data"
    }
   ],
   "source": [
    "#evaluate the performance of our model\n",
    "import seaborn as sns\n",
    "from sklearn.metrics import classification_report,confusion_matrix\n",
    "\n",
    "cm=confusion_matrix(y_test,predictions)\n",
    "sns.heatmap(cm, annot=True,fmt='d').set_title(\"Incline Prediction Confusion Matrix\")\n",
    "\n",
    "print(classification_report(y_test,predictions))"
   ]
  }
 ],
 "metadata": {
  "kernelspec": {
   "display_name": "Python 3",
   "language": "python",
   "name": "python3"
  },
  "language_info": {
   "codemirror_mode": {
    "name": "ipython",
    "version": 3
   },
   "file_extension": ".py",
   "mimetype": "text/x-python",
   "name": "python",
   "nbconvert_exporter": "python",
   "pygments_lexer": "ipython3",
   "version": "3.10.4"
  },
  "vscode": {
   "interpreter": {
    "hash": "aee8b7b246df8f9039afb4144a1f6fd8d2ca17a180786b69acc140d282b71a49"
   }
  }
 },
 "nbformat": 4,
 "nbformat_minor": 5
}
